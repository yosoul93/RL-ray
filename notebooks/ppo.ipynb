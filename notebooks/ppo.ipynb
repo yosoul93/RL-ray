{
 "cells": [
  {
   "cell_type": "code",
   "execution_count": 1,
   "id": "6b71ed3e",
   "metadata": {},
   "outputs": [],
   "source": [
    "import os\n",
    "import sys\n",
    "import json\n",
    "import numpy as np\n",
    "import pandas as pd\n",
    "import multiprocessing\n",
    "\n",
    "import tensorflow as tf\n",
    "tf.compat.v1.disable_eager_execution()\n",
    "\n",
    "import ray\n",
    "from ray import tune\n",
    "from ray.tune import CLIReporter\n",
    "from ray.rllib.agents.ppo import PPOTrainer, DEFAULT_CONFIG\n",
    "\n",
    "root_dir = os.getcwd().replace('notebooks', '')\n",
    "# sys.path.append(root_dir)\n",
    "import numpy as np\n",
    "import pandas as pd\n",
    "from pylab import plt, mpl\n",
    "plt.style.use('seaborn')\n",
    "mpl.rcParams['savefig.dpi'] = 300\n",
    "mpl.rcParams['font.family'] = 'serif'\n",
    "pd.set_option('mode.chained_assignment', None)\n",
    "pd.set_option('display.float_format', '{:.4f}'.format)\n",
    "np.set_printoptions(suppress=True, precision=4)\n",
    "os.environ['PYTHONHASHSEED'] = '0'\n",
    "os.environ[\"CUDA_DEVICE_ORDER\"]=\"PCI_BUS_ID\"\n",
    "os.environ[\"CUDA_VISIBLE_DEVICES\"]=\"0,1,2\"   "
   ]
  },
  {
   "cell_type": "code",
   "execution_count": 2,
   "id": "77926573",
   "metadata": {},
   "outputs": [],
   "source": [
    "import tensorflow as tf\n",
    "physical_devices = tf.config.list_physical_devices('GPU')\n",
    "for gpu_instance in physical_devices: \n",
    "    tf.config.experimental.set_memory_growth(gpu_instance, True)"
   ]
  },
  {
   "cell_type": "code",
   "execution_count": 3,
   "id": "604daa99",
   "metadata": {},
   "outputs": [
    {
     "data": {
      "text/plain": [
       "24"
      ]
     },
     "execution_count": 3,
     "metadata": {},
     "output_type": "execute_result"
    }
   ],
   "source": [
    "n_cpus = multiprocessing.cpu_count()\n",
    "n_cpus"
   ]
  },
  {
   "cell_type": "code",
   "execution_count": 4,
   "id": "da59f8ab",
   "metadata": {},
   "outputs": [
    {
     "data": {
      "text/plain": [
       "3"
      ]
     },
     "execution_count": 4,
     "metadata": {},
     "output_type": "execute_result"
    }
   ],
   "source": [
    "n_gpus = len(tf.config.list_physical_devices('GPU'))\n",
    "n_gpus"
   ]
  },
  {
   "cell_type": "code",
   "execution_count": 5,
   "id": "9ef40b7c",
   "metadata": {},
   "outputs": [
    {
     "name": "stderr",
     "output_type": "stream",
     "text": [
      "C:\\Users\\yosou\\Documents\\BooksWithCode\\Binance\\Deep Learning\\Reinforcement-Learning\\RL-ray\\pyfolio\\pos.py:27: UserWarning: Module \"zipline.assets\" not found; multipliers will not be applied to position notionals.\n",
      "  'Module \"zipline.assets\" not found; multipliers will not be applied'\n"
     ]
    }
   ],
   "source": [
    "from env_crypto import CryptoEnv"
   ]
  },
  {
   "cell_type": "code",
   "execution_count": 6,
   "id": "7e8330e5",
   "metadata": {},
   "outputs": [],
   "source": [
    "pairs = 'ADAUSDT'\n",
    "lag = 150"
   ]
  },
  {
   "cell_type": "code",
   "execution_count": 7,
   "id": "85a74b97",
   "metadata": {},
   "outputs": [],
   "source": [
    "url = f'C:/Users/yosou/Documents/BooksWithCode/Binance/Binance-Ai-Bot-Starter/Data/SPOT/{pairs}/{pairs}-5m-data.csv'"
   ]
  },
  {
   "cell_type": "code",
   "execution_count": 8,
   "id": "4a6bed08",
   "metadata": {},
   "outputs": [
    {
     "data": {
      "text/html": [
       "<div>\n",
       "<style scoped>\n",
       "    .dataframe tbody tr th:only-of-type {\n",
       "        vertical-align: middle;\n",
       "    }\n",
       "\n",
       "    .dataframe tbody tr th {\n",
       "        vertical-align: top;\n",
       "    }\n",
       "\n",
       "    .dataframe thead th {\n",
       "        text-align: right;\n",
       "    }\n",
       "</style>\n",
       "<table border=\"1\" class=\"dataframe\">\n",
       "  <thead>\n",
       "    <tr style=\"text-align: right;\">\n",
       "      <th></th>\n",
       "      <th>timestamp</th>\n",
       "      <th>open</th>\n",
       "      <th>high</th>\n",
       "      <th>low</th>\n",
       "      <th>close</th>\n",
       "      <th>volume</th>\n",
       "    </tr>\n",
       "  </thead>\n",
       "  <tbody>\n",
       "    <tr>\n",
       "      <th>0</th>\n",
       "      <td>2021-01-01 00:00:00</td>\n",
       "      <td>0.1813</td>\n",
       "      <td>0.1815</td>\n",
       "      <td>0.1804</td>\n",
       "      <td>0.1805</td>\n",
       "      <td>1719341.2000</td>\n",
       "    </tr>\n",
       "    <tr>\n",
       "      <th>1</th>\n",
       "      <td>2021-01-01 00:05:00</td>\n",
       "      <td>0.1805</td>\n",
       "      <td>0.1806</td>\n",
       "      <td>0.1791</td>\n",
       "      <td>0.1793</td>\n",
       "      <td>3551263.8000</td>\n",
       "    </tr>\n",
       "    <tr>\n",
       "      <th>2</th>\n",
       "      <td>2021-01-01 00:10:00</td>\n",
       "      <td>0.1793</td>\n",
       "      <td>0.1796</td>\n",
       "      <td>0.1783</td>\n",
       "      <td>0.1786</td>\n",
       "      <td>3737301.1000</td>\n",
       "    </tr>\n",
       "    <tr>\n",
       "      <th>3</th>\n",
       "      <td>2021-01-01 00:15:00</td>\n",
       "      <td>0.1787</td>\n",
       "      <td>0.1798</td>\n",
       "      <td>0.1785</td>\n",
       "      <td>0.1797</td>\n",
       "      <td>1539790.0000</td>\n",
       "    </tr>\n",
       "    <tr>\n",
       "      <th>4</th>\n",
       "      <td>2021-01-01 00:20:00</td>\n",
       "      <td>0.1797</td>\n",
       "      <td>0.1797</td>\n",
       "      <td>0.1789</td>\n",
       "      <td>0.1794</td>\n",
       "      <td>945063.5000</td>\n",
       "    </tr>\n",
       "    <tr>\n",
       "      <th>...</th>\n",
       "      <td>...</td>\n",
       "      <td>...</td>\n",
       "      <td>...</td>\n",
       "      <td>...</td>\n",
       "      <td>...</td>\n",
       "      <td>...</td>\n",
       "    </tr>\n",
       "    <tr>\n",
       "      <th>68198</th>\n",
       "      <td>2021-08-26 09:35:00</td>\n",
       "      <td>2.5950</td>\n",
       "      <td>2.5970</td>\n",
       "      <td>2.5850</td>\n",
       "      <td>2.5870</td>\n",
       "      <td>610883.2000</td>\n",
       "    </tr>\n",
       "    <tr>\n",
       "      <th>68199</th>\n",
       "      <td>2021-08-26 09:40:00</td>\n",
       "      <td>2.5860</td>\n",
       "      <td>2.5880</td>\n",
       "      <td>2.5820</td>\n",
       "      <td>2.5870</td>\n",
       "      <td>571969.7000</td>\n",
       "    </tr>\n",
       "    <tr>\n",
       "      <th>68200</th>\n",
       "      <td>2021-08-26 09:45:00</td>\n",
       "      <td>2.5860</td>\n",
       "      <td>2.5870</td>\n",
       "      <td>2.5690</td>\n",
       "      <td>2.5780</td>\n",
       "      <td>1485829.2000</td>\n",
       "    </tr>\n",
       "    <tr>\n",
       "      <th>68201</th>\n",
       "      <td>2021-08-26 09:50:00</td>\n",
       "      <td>2.5780</td>\n",
       "      <td>2.5820</td>\n",
       "      <td>2.5540</td>\n",
       "      <td>2.5580</td>\n",
       "      <td>2166139.3000</td>\n",
       "    </tr>\n",
       "    <tr>\n",
       "      <th>68202</th>\n",
       "      <td>2021-08-26 09:55:00</td>\n",
       "      <td>2.5590</td>\n",
       "      <td>2.5640</td>\n",
       "      <td>2.5440</td>\n",
       "      <td>2.5530</td>\n",
       "      <td>2123651.4000</td>\n",
       "    </tr>\n",
       "  </tbody>\n",
       "</table>\n",
       "<p>68203 rows × 6 columns</p>\n",
       "</div>"
      ],
      "text/plain": [
       "                 timestamp   open   high    low  close       volume\n",
       "0      2021-01-01 00:00:00 0.1813 0.1815 0.1804 0.1805 1719341.2000\n",
       "1      2021-01-01 00:05:00 0.1805 0.1806 0.1791 0.1793 3551263.8000\n",
       "2      2021-01-01 00:10:00 0.1793 0.1796 0.1783 0.1786 3737301.1000\n",
       "3      2021-01-01 00:15:00 0.1787 0.1798 0.1785 0.1797 1539790.0000\n",
       "4      2021-01-01 00:20:00 0.1797 0.1797 0.1789 0.1794  945063.5000\n",
       "...                    ...    ...    ...    ...    ...          ...\n",
       "68198  2021-08-26 09:35:00 2.5950 2.5970 2.5850 2.5870  610883.2000\n",
       "68199  2021-08-26 09:40:00 2.5860 2.5880 2.5820 2.5870  571969.7000\n",
       "68200  2021-08-26 09:45:00 2.5860 2.5870 2.5690 2.5780 1485829.2000\n",
       "68201  2021-08-26 09:50:00 2.5780 2.5820 2.5540 2.5580 2166139.3000\n",
       "68202  2021-08-26 09:55:00 2.5590 2.5640 2.5440 2.5530 2123651.4000\n",
       "\n",
       "[68203 rows x 6 columns]"
      ]
     },
     "execution_count": 8,
     "metadata": {},
     "output_type": "execute_result"
    }
   ],
   "source": [
    "data = pd.read_csv(url)\n",
    "data"
   ]
  },
  {
   "cell_type": "code",
   "execution_count": 9,
   "id": "9cd9d953",
   "metadata": {},
   "outputs": [
    {
     "data": {
      "text/html": [
       "<div>\n",
       "<style scoped>\n",
       "    .dataframe tbody tr th:only-of-type {\n",
       "        vertical-align: middle;\n",
       "    }\n",
       "\n",
       "    .dataframe tbody tr th {\n",
       "        vertical-align: top;\n",
       "    }\n",
       "\n",
       "    .dataframe thead th {\n",
       "        text-align: right;\n",
       "    }\n",
       "</style>\n",
       "<table border=\"1\" class=\"dataframe\">\n",
       "  <thead>\n",
       "    <tr style=\"text-align: right;\">\n",
       "      <th></th>\n",
       "      <th>open</th>\n",
       "      <th>high</th>\n",
       "      <th>low</th>\n",
       "      <th>close</th>\n",
       "      <th>volume</th>\n",
       "    </tr>\n",
       "    <tr>\n",
       "      <th>timestamp</th>\n",
       "      <th></th>\n",
       "      <th></th>\n",
       "      <th></th>\n",
       "      <th></th>\n",
       "      <th></th>\n",
       "    </tr>\n",
       "  </thead>\n",
       "  <tbody>\n",
       "    <tr>\n",
       "      <th>2021-01-01 00:00:00</th>\n",
       "      <td>0.1813</td>\n",
       "      <td>0.1815</td>\n",
       "      <td>0.1804</td>\n",
       "      <td>0.1805</td>\n",
       "      <td>1719341.2000</td>\n",
       "    </tr>\n",
       "    <tr>\n",
       "      <th>2021-01-01 00:05:00</th>\n",
       "      <td>0.1805</td>\n",
       "      <td>0.1806</td>\n",
       "      <td>0.1791</td>\n",
       "      <td>0.1793</td>\n",
       "      <td>3551263.8000</td>\n",
       "    </tr>\n",
       "    <tr>\n",
       "      <th>2021-01-01 00:10:00</th>\n",
       "      <td>0.1793</td>\n",
       "      <td>0.1796</td>\n",
       "      <td>0.1783</td>\n",
       "      <td>0.1786</td>\n",
       "      <td>3737301.1000</td>\n",
       "    </tr>\n",
       "    <tr>\n",
       "      <th>2021-01-01 00:15:00</th>\n",
       "      <td>0.1787</td>\n",
       "      <td>0.1798</td>\n",
       "      <td>0.1785</td>\n",
       "      <td>0.1797</td>\n",
       "      <td>1539790.0000</td>\n",
       "    </tr>\n",
       "    <tr>\n",
       "      <th>2021-01-01 00:20:00</th>\n",
       "      <td>0.1797</td>\n",
       "      <td>0.1797</td>\n",
       "      <td>0.1789</td>\n",
       "      <td>0.1794</td>\n",
       "      <td>945063.5000</td>\n",
       "    </tr>\n",
       "    <tr>\n",
       "      <th>...</th>\n",
       "      <td>...</td>\n",
       "      <td>...</td>\n",
       "      <td>...</td>\n",
       "      <td>...</td>\n",
       "      <td>...</td>\n",
       "    </tr>\n",
       "    <tr>\n",
       "      <th>2021-08-26 09:35:00</th>\n",
       "      <td>2.5950</td>\n",
       "      <td>2.5970</td>\n",
       "      <td>2.5850</td>\n",
       "      <td>2.5870</td>\n",
       "      <td>610883.2000</td>\n",
       "    </tr>\n",
       "    <tr>\n",
       "      <th>2021-08-26 09:40:00</th>\n",
       "      <td>2.5860</td>\n",
       "      <td>2.5880</td>\n",
       "      <td>2.5820</td>\n",
       "      <td>2.5870</td>\n",
       "      <td>571969.7000</td>\n",
       "    </tr>\n",
       "    <tr>\n",
       "      <th>2021-08-26 09:45:00</th>\n",
       "      <td>2.5860</td>\n",
       "      <td>2.5870</td>\n",
       "      <td>2.5690</td>\n",
       "      <td>2.5780</td>\n",
       "      <td>1485829.2000</td>\n",
       "    </tr>\n",
       "    <tr>\n",
       "      <th>2021-08-26 09:50:00</th>\n",
       "      <td>2.5780</td>\n",
       "      <td>2.5820</td>\n",
       "      <td>2.5540</td>\n",
       "      <td>2.5580</td>\n",
       "      <td>2166139.3000</td>\n",
       "    </tr>\n",
       "    <tr>\n",
       "      <th>2021-08-26 09:55:00</th>\n",
       "      <td>2.5590</td>\n",
       "      <td>2.5640</td>\n",
       "      <td>2.5440</td>\n",
       "      <td>2.5530</td>\n",
       "      <td>2123651.4000</td>\n",
       "    </tr>\n",
       "  </tbody>\n",
       "</table>\n",
       "<p>68203 rows × 5 columns</p>\n",
       "</div>"
      ],
      "text/plain": [
       "                      open   high    low  close       volume\n",
       "timestamp                                                   \n",
       "2021-01-01 00:00:00 0.1813 0.1815 0.1804 0.1805 1719341.2000\n",
       "2021-01-01 00:05:00 0.1805 0.1806 0.1791 0.1793 3551263.8000\n",
       "2021-01-01 00:10:00 0.1793 0.1796 0.1783 0.1786 3737301.1000\n",
       "2021-01-01 00:15:00 0.1787 0.1798 0.1785 0.1797 1539790.0000\n",
       "2021-01-01 00:20:00 0.1797 0.1797 0.1789 0.1794  945063.5000\n",
       "...                    ...    ...    ...    ...          ...\n",
       "2021-08-26 09:35:00 2.5950 2.5970 2.5850 2.5870  610883.2000\n",
       "2021-08-26 09:40:00 2.5860 2.5880 2.5820 2.5870  571969.7000\n",
       "2021-08-26 09:45:00 2.5860 2.5870 2.5690 2.5780 1485829.2000\n",
       "2021-08-26 09:50:00 2.5780 2.5820 2.5540 2.5580 2166139.3000\n",
       "2021-08-26 09:55:00 2.5590 2.5640 2.5440 2.5530 2123651.4000\n",
       "\n",
       "[68203 rows x 5 columns]"
      ]
     },
     "execution_count": 9,
     "metadata": {},
     "output_type": "execute_result"
    }
   ],
   "source": [
    "data = data.set_index('timestamp')\n",
    "data.index = pd.to_datetime(data.index)\n",
    "data =  data.astype(float)\n",
    "data"
   ]
  },
  {
   "cell_type": "code",
   "execution_count": 10,
   "id": "887f08b3",
   "metadata": {},
   "outputs": [
    {
     "data": {
      "text/html": [
       "<div>\n",
       "<style scoped>\n",
       "    .dataframe tbody tr th:only-of-type {\n",
       "        vertical-align: middle;\n",
       "    }\n",
       "\n",
       "    .dataframe tbody tr th {\n",
       "        vertical-align: top;\n",
       "    }\n",
       "\n",
       "    .dataframe thead th {\n",
       "        text-align: right;\n",
       "    }\n",
       "</style>\n",
       "<table border=\"1\" class=\"dataframe\">\n",
       "  <thead>\n",
       "    <tr style=\"text-align: right;\">\n",
       "      <th></th>\n",
       "      <th>open</th>\n",
       "      <th>high</th>\n",
       "      <th>low</th>\n",
       "      <th>close</th>\n",
       "      <th>volume</th>\n",
       "    </tr>\n",
       "    <tr>\n",
       "      <th>timestamp</th>\n",
       "      <th></th>\n",
       "      <th></th>\n",
       "      <th></th>\n",
       "      <th></th>\n",
       "      <th></th>\n",
       "    </tr>\n",
       "  </thead>\n",
       "  <tbody>\n",
       "    <tr>\n",
       "      <th>2021-08-13 13:25:00</th>\n",
       "      <td>2.0372</td>\n",
       "      <td>2.0402</td>\n",
       "      <td>2.0311</td>\n",
       "      <td>2.0312</td>\n",
       "      <td>1517479.9100</td>\n",
       "    </tr>\n",
       "    <tr>\n",
       "      <th>2021-08-13 13:30:00</th>\n",
       "      <td>2.0312</td>\n",
       "      <td>2.0369</td>\n",
       "      <td>2.0261</td>\n",
       "      <td>2.0297</td>\n",
       "      <td>1857518.4300</td>\n",
       "    </tr>\n",
       "    <tr>\n",
       "      <th>2021-08-13 13:35:00</th>\n",
       "      <td>2.0297</td>\n",
       "      <td>2.0312</td>\n",
       "      <td>2.0221</td>\n",
       "      <td>2.0238</td>\n",
       "      <td>2746010.5000</td>\n",
       "    </tr>\n",
       "    <tr>\n",
       "      <th>2021-08-13 13:40:00</th>\n",
       "      <td>2.0240</td>\n",
       "      <td>2.0255</td>\n",
       "      <td>2.0178</td>\n",
       "      <td>2.0198</td>\n",
       "      <td>1765897.1200</td>\n",
       "    </tr>\n",
       "    <tr>\n",
       "      <th>2021-08-13 13:45:00</th>\n",
       "      <td>2.0198</td>\n",
       "      <td>2.0355</td>\n",
       "      <td>2.0196</td>\n",
       "      <td>2.0295</td>\n",
       "      <td>1762917.7000</td>\n",
       "    </tr>\n",
       "    <tr>\n",
       "      <th>...</th>\n",
       "      <td>...</td>\n",
       "      <td>...</td>\n",
       "      <td>...</td>\n",
       "      <td>...</td>\n",
       "      <td>...</td>\n",
       "    </tr>\n",
       "    <tr>\n",
       "      <th>2021-08-26 09:35:00</th>\n",
       "      <td>2.5950</td>\n",
       "      <td>2.5970</td>\n",
       "      <td>2.5850</td>\n",
       "      <td>2.5870</td>\n",
       "      <td>610883.2000</td>\n",
       "    </tr>\n",
       "    <tr>\n",
       "      <th>2021-08-26 09:40:00</th>\n",
       "      <td>2.5860</td>\n",
       "      <td>2.5880</td>\n",
       "      <td>2.5820</td>\n",
       "      <td>2.5870</td>\n",
       "      <td>571969.7000</td>\n",
       "    </tr>\n",
       "    <tr>\n",
       "      <th>2021-08-26 09:45:00</th>\n",
       "      <td>2.5860</td>\n",
       "      <td>2.5870</td>\n",
       "      <td>2.5690</td>\n",
       "      <td>2.5780</td>\n",
       "      <td>1485829.2000</td>\n",
       "    </tr>\n",
       "    <tr>\n",
       "      <th>2021-08-26 09:50:00</th>\n",
       "      <td>2.5780</td>\n",
       "      <td>2.5820</td>\n",
       "      <td>2.5540</td>\n",
       "      <td>2.5580</td>\n",
       "      <td>2166139.3000</td>\n",
       "    </tr>\n",
       "    <tr>\n",
       "      <th>2021-08-26 09:55:00</th>\n",
       "      <td>2.5590</td>\n",
       "      <td>2.5640</td>\n",
       "      <td>2.5440</td>\n",
       "      <td>2.5530</td>\n",
       "      <td>2123651.4000</td>\n",
       "    </tr>\n",
       "  </tbody>\n",
       "</table>\n",
       "<p>3703 rows × 5 columns</p>\n",
       "</div>"
      ],
      "text/plain": [
       "                      open   high    low  close       volume\n",
       "timestamp                                                   \n",
       "2021-08-13 13:25:00 2.0372 2.0402 2.0311 2.0312 1517479.9100\n",
       "2021-08-13 13:30:00 2.0312 2.0369 2.0261 2.0297 1857518.4300\n",
       "2021-08-13 13:35:00 2.0297 2.0312 2.0221 2.0238 2746010.5000\n",
       "2021-08-13 13:40:00 2.0240 2.0255 2.0178 2.0198 1765897.1200\n",
       "2021-08-13 13:45:00 2.0198 2.0355 2.0196 2.0295 1762917.7000\n",
       "...                    ...    ...    ...    ...          ...\n",
       "2021-08-26 09:35:00 2.5950 2.5970 2.5850 2.5870  610883.2000\n",
       "2021-08-26 09:40:00 2.5860 2.5880 2.5820 2.5870  571969.7000\n",
       "2021-08-26 09:45:00 2.5860 2.5870 2.5690 2.5780 1485829.2000\n",
       "2021-08-26 09:50:00 2.5780 2.5820 2.5540 2.5580 2166139.3000\n",
       "2021-08-26 09:55:00 2.5590 2.5640 2.5440 2.5530 2123651.4000\n",
       "\n",
       "[3703 rows x 5 columns]"
      ]
     },
     "execution_count": 10,
     "metadata": {},
     "output_type": "execute_result"
    }
   ],
   "source": [
    "data = data.iloc[64500:]\n",
    "data"
   ]
  },
  {
   "cell_type": "code",
   "execution_count": 11,
   "id": "a68fccf1",
   "metadata": {},
   "outputs": [],
   "source": [
    "features = ['account', 'open', 'high', 'low', 'close',\n",
    "           'r', 'm', 'v', 'min', 'max', 'mami', 'mac', 'mic', 'atr', 'atr%',\n",
    "           'avg_price', 'med_price', 'typ_price', 'wcl_price', 'upperband',\n",
    "           'middleband', 'lowerband', 'sma_7', 'sma_25', 'sma_99', 'ema_7', 'ema_25', 'ema_99',\n",
    "           'macd', 'macd_signal', 'macd_hist', 'rsi', 'cci', 'dx', 'units']"
   ]
  },
  {
   "cell_type": "code",
   "execution_count": 12,
   "id": "9757042d",
   "metadata": {},
   "outputs": [],
   "source": [
    "learn_env = CryptoEnv(initial_account=1e6, data=data, lag=lag, ptc=2.7e-4, mode='train', features=features)"
   ]
  },
  {
   "cell_type": "code",
   "execution_count": 13,
   "id": "e4335303",
   "metadata": {},
   "outputs": [],
   "source": [
    "test_env = CryptoEnv(initial_account=1e6, data=data, lag=lag, ptc=2.7e-4, mode='test', features=features)"
   ]
  },
  {
   "cell_type": "code",
   "execution_count": 14,
   "id": "2abbbf4f",
   "metadata": {},
   "outputs": [],
   "source": [
    "# learn_env.draw_cumulative_return(agent.model)"
   ]
  },
  {
   "cell_type": "code",
   "execution_count": 15,
   "id": "bd51ea60",
   "metadata": {},
   "outputs": [],
   "source": [
    "# test_env.draw_cumulative_return(agent.model)"
   ]
  },
  {
   "cell_type": "code",
   "execution_count": 16,
   "id": "7c00a42e",
   "metadata": {},
   "outputs": [],
   "source": [
    "# initialize ray\n",
    "# https://ray.readthedocs.io/en/latest/package-ref.html#ray.init\n",
    "# ray.init(ignore_reinit_error=True, log_to_driver=False, dashboard_host='0.0.0.0')"
   ]
  },
  {
   "cell_type": "code",
   "execution_count": 17,
   "id": "507eef41",
   "metadata": {},
   "outputs": [],
   "source": [
    "ppo_config = DEFAULT_CONFIG.copy()\n",
    "if n_gpus:\n",
    "    ppo_config['num_gpus'] = n_gpus\n",
    "    ppo_config['tf_session_args']['device_count']['GPU'] = n_gpus\n",
    "\n",
    "ppo_config['num_workers'] = 1\n",
    "ppo_config['num_sgd_iter'] = 2\n",
    "ppo_config['sgd_minibatch_size'] = 128\n",
    "ppo_config['lr'] = 0.0003\n",
    "ppo_config['gamma'] = 0.99\n",
    "ppo_config['model']['fcnet_hiddens'] = [64, 64]\n",
    "ppo_config['timesteps_per_iteration'] = len(learn_env.data)\n",
    "ppo_config['train_batch_size'] = 8000\n",
    "ppo_config['num_cpus_per_worker'] = 0  # This avoids running out of resources in the notebook environment when this cell is re-executed\n",
    "ppo_config['framework']='tf'\n",
    "ppo_config['env'] = \"TradingEnv\""
   ]
  },
  {
   "cell_type": "code",
   "execution_count": 18,
   "id": "10c98e20",
   "metadata": {},
   "outputs": [],
   "source": [
    "def create_env(config):\n",
    "    return learn_env"
   ]
  },
  {
   "cell_type": "code",
   "execution_count": 19,
   "id": "434e13a6",
   "metadata": {},
   "outputs": [],
   "source": [
    "from ray.tune.registry import register_env\n",
    "\n",
    "register_env(\"TradingEnv\", create_env)"
   ]
  },
  {
   "cell_type": "code",
   "execution_count": 20,
   "id": "55e33574",
   "metadata": {},
   "outputs": [],
   "source": [
    "# agent = PPOTrainer(config=ppo_config)"
   ]
  },
  {
   "cell_type": "code",
   "execution_count": 21,
   "id": "edff9e65",
   "metadata": {},
   "outputs": [],
   "source": [
    "# result = agent.train()"
   ]
  },
  {
   "cell_type": "code",
   "execution_count": 22,
   "id": "4489c118",
   "metadata": {},
   "outputs": [],
   "source": [
    "# result"
   ]
  },
  {
   "cell_type": "code",
   "execution_count": 23,
   "id": "781804ef",
   "metadata": {
    "scrolled": true
   },
   "outputs": [
    {
     "data": {
      "text/html": [
       "== Status ==<br>Memory usage on this node: 25.7/63.9 GiB<br>Using FIFO scheduling algorithm.<br>Resources requested: 3.0/48 CPUs, 3.0/6 GPUs, 0.0/57.06 GiB heap, 0.0/28.53 GiB objects (0.0/3.0 CPU_group_e1be52022b31c7c646ba2998fed19c09, 0.0/1.0 CPU_group_1_e1be52022b31c7c646ba2998fed19c09, 0.0/1.0 CPU_group_2_e1be52022b31c7c646ba2998fed19c09, 0.0/3.0 GPU_group_0_e1be52022b31c7c646ba2998fed19c09, 0.0/1.0 CPU_group_0_e1be52022b31c7c646ba2998fed19c09, 0.0/3.0 GPU_group_e1be52022b31c7c646ba2998fed19c09, 0.0/3.0 GPU_group_9e59c6702628b6dc332cd810b90739c8, 0.0/3.0 CPU_group_9e59c6702628b6dc332cd810b90739c8, 0.0/1.0 CPU_group_0_9e59c6702628b6dc332cd810b90739c8, 0.0/3.0 GPU_group_0_9e59c6702628b6dc332cd810b90739c8, 0.0/1.0 CPU_group_1_9e59c6702628b6dc332cd810b90739c8, 0.0/1.0 CPU_group_2_9e59c6702628b6dc332cd810b90739c8)<br>Result logdir: C:\\Users\\yosou\\Documents\\BooksWithCode\\Binance\\Deep Learning\\Reinforcement-Learning\\RL-ray\\ray-results\\PPO<br>Number of trials: 2/2 (1 PENDING, 1 RUNNING)<br><br>"
      ],
      "text/plain": [
       "<IPython.core.display.HTML object>"
      ]
     },
     "metadata": {},
     "output_type": "display_data"
    },
    {
     "name": "stderr",
     "output_type": "stream",
     "text": [
      "\u001b[2m\u001b[36m(pid=15352)\u001b[0m Windows fatal exception: access violation\n",
      "\u001b[2m\u001b[36m(pid=15352)\u001b[0m \n",
      "2021-08-27 03:14:33,746\tERROR tune.py:546 -- Trials did not complete: [PPO_TradingEnv_e51fe_00000, PPO_TradingEnv_e51fe_00001]\n",
      "2021-08-27 03:14:33,747\tINFO tune.py:550 -- Total run time: 244.79 seconds (244.35 seconds for the tuning loop).\n",
      "2021-08-27 03:14:33,747\tWARNING tune.py:555 -- Experiment has been interrupted, but the most recent state was saved. You can continue running this experiment by passing `resume=True` to `tune.run()`\n"
     ]
    }
   ],
   "source": [
    "# tune hyperparamters with grid search\n",
    "# https://github.com/ray-project/ray/blob/master/python/ray/tune/tune.py\n",
    "ray.init(ignore_reinit_error=True)\n",
    "env_name = 'TradingEnv'\n",
    "ppo_config = {\n",
    "    \"env\": env_name,\n",
    "    \"num_workers\": 1,\n",
    "#     'model': {\n",
    "#         'fcnet_hiddens': tune.grid_search([[128, 128],[64, 64],[32, 32]])\n",
    "#     },        \n",
    "#     'train_batch_size': 1000,\n",
    "#     \"lr\": tune.grid_search([0.0003, 0.0001]),\n",
    "#     'gamma': tune.grid_search([0.99, 0.999]),\n",
    "#     'framework': 'tf',\n",
    "    'num_gpus': 1#n_gpus  \n",
    "}\n",
    "                      \n",
    "analysis = tune.run(\n",
    "    \"PPO\",\n",
    "    name='PPO',\n",
    "    verbose=1,\n",
    "    stop={\"training_iteration\": 10000},\n",
    "    config = ppo_config,\n",
    "    checkpoint_freq=10,\n",
    "    checkpoint_at_end=True,\n",
    "    checkpoint_score_attr='episode_reward_mean',\n",
    "    local_dir=root_dir+'\\\\ray-results',\n",
    "#     progress_reporter=CLIReporter(),\n",
    "    num_samples=1,  # for grid search, number of times to run each hyperparameter combo\n",
    "    #     with_server=True,\n",
    "    #     server_port=8267,\n",
    ")\n"
   ]
  },
  {
   "cell_type": "code",
   "execution_count": null,
   "id": "052237af",
   "metadata": {},
   "outputs": [],
   "source": []
  },
  {
   "cell_type": "code",
   "execution_count": null,
   "id": "3115c22a",
   "metadata": {},
   "outputs": [],
   "source": []
  }
 ],
 "metadata": {
  "kernelspec": {
   "display_name": "Python 3",
   "language": "python",
   "name": "python3"
  },
  "language_info": {
   "codemirror_mode": {
    "name": "ipython",
    "version": 3
   },
   "file_extension": ".py",
   "mimetype": "text/x-python",
   "name": "python",
   "nbconvert_exporter": "python",
   "pygments_lexer": "ipython3",
   "version": "3.7.1"
  }
 },
 "nbformat": 4,
 "nbformat_minor": 5
}
